{
 "cells": [
  {
   "cell_type": "markdown",
   "id": "a0735c0c-7022-417f-a105-554f454dc412",
   "metadata": {},
   "source": [
    "# Amazon Web Scraping Project "
   ]
  },
  {
   "cell_type": "code",
   "execution_count": null,
   "id": "87a1ddba-ccc8-49fb-aeb4-094cc10ffb99",
   "metadata": {},
   "outputs": [],
   "source": [
    "#we can also use it for time series forcasting (stock prize changes or revealing stock patterns)  etl process"
   ]
  },
  {
   "cell_type": "code",
   "execution_count": 45,
   "id": "baf82436-9b33-4749-9775-94c31fad15cb",
   "metadata": {},
   "outputs": [],
   "source": [
    "# import libraries \n",
    "\n",
    "from bs4 import BeautifulSoup\n",
    "import requests\n",
    "import time\n",
    "import datetime\n",
    "\n",
    "import smtplib"
   ]
  },
  {
   "cell_type": "code",
   "execution_count": 46,
   "id": "990a2826-676b-41bb-ac53-052be19d1dbd",
   "metadata": {},
   "outputs": [
    {
     "name": "stdout",
     "output_type": "stream",
     "text": [
      "        Funny Got Data MIS Data Systems Business Analyst T-Shirt       \n",
      "19 ratings\n"
     ]
    }
   ],
   "source": [
    "# Connect to Website and pull in data\n",
    "URL = 'https://www.amazon.com/Funny-Data-Systems-Business-Analyst/dp/B07FNW9FGJ/ref=sr_1_3?dchild=1&keywords=data%2Banalyst%2Btshirt&qid=1626655184&sr=8-3&customId=B0752XJYNL&th=1'\n",
    "\n",
    "headers = {\"User-Agent\": \"Mozilla/5.0 (Windows NT 10.0; Win64; x64) AppleWebKit/537.36 (KHTML, like Gecko) Chrome/78.0.3904.108 Safari/537.36\", \"Accept-Encoding\":\"gzip, deflate\", \"Accept\":\"text/html,application/xhtml+xml,application/xml;q=0.9,*/*;q=0.8\", \"DNT\":\"1\",\"Connection\":\"close\", \"Upgrade-Insecure-Requests\":\"1\"}\n",
    "page = requests.get(URL, headers=headers)\n",
    "\n",
    "soup1 = BeautifulSoup(page.content, \"html.parser\")\n",
    "#print(soup1)   #show the whole page html data \n",
    "title = soup1.find(id='productTitle').get_text()\n",
    "rating= soup1.find(id='acrCustomerReviewText').get_text()\n",
    "print(title)\n",
    "print(rating)\n",
    "\n"
   ]
  },
  {
   "cell_type": "code",
   "execution_count": 47,
   "id": "0f3430f1-a2e7-4664-8faf-5b3d486a6732",
   "metadata": {},
   "outputs": [
    {
     "name": "stdout",
     "output_type": "stream",
     "text": [
      "Funny Got Data MIS Data Systems Business Analyst T-Shirt\n",
      "9 ratings\n"
     ]
    }
   ],
   "source": [
    "# Clean up the data a little bit\n",
    "\n",
    "title = title.strip()\n",
    "rating=rating.strip()[1:] # taking string after 1st position or 0th index\n",
    "\n",
    "print(title)\n",
    "print(rating)"
   ]
  },
  {
   "cell_type": "code",
   "execution_count": 48,
   "id": "cab9edff-5ae2-4fb3-b865-c5cdc12fa2c8",
   "metadata": {},
   "outputs": [
    {
     "name": "stdout",
     "output_type": "stream",
     "text": [
      "2024-06-25\n"
     ]
    }
   ],
   "source": [
    "# Create a Timestamp for your output to track when data was collected\n",
    "\n",
    "import datetime\n",
    "\n",
    "today = datetime.date.today()\n",
    "\n",
    "print(today)"
   ]
  },
  {
   "cell_type": "code",
   "execution_count": 49,
   "id": "ad759597-9a53-4b9b-a4a4-17e03acbc529",
   "metadata": {},
   "outputs": [],
   "source": [
    "# inserting into csv for analysis \n",
    "\n",
    "import csv\n",
    "header =['title','rating','Date']               #          for heading of csv column\n",
    "data =[title,rating,today]               # coverting type of title and rating to a list from string \n",
    "\n",
    "\n",
    "#for not accidently deleting data we can comment below four lines so csv data will be saved\n",
    "\n",
    "#with open('AmazonWebScraperDataset.csv', 'w', newline='') as f:    # using default code for using web data to csv or(CREATING THE CSV DATA)\n",
    "    \n",
    "    #writer = csv.writer(f)\n",
    "    #writer.writerow(header)      # INSERTING HEADER OR HEADING\n",
    "    #writer.writerow(data)        # INSERTING HEADER DATA\n",
    "    \n",
    "    \n",
    "\n",
    "    \n"
   ]
  },
  {
   "cell_type": "code",
   "execution_count": 62,
   "id": "59341813-b960-47aa-a7f1-a4f9fd192bb5",
   "metadata": {},
   "outputs": [
    {
     "name": "stdout",
     "output_type": "stream",
     "text": [
      "                                               title     rating        Date\n",
      "0  Funny Got Data MIS Data Systems Business Analy...  9 ratings  2024-06-25\n",
      "1  Funny Got Data MIS Data Systems Business Analy...  9 ratings  2024-06-25\n",
      "2  Funny Got Data MIS Data Systems Business Analy...  9 ratings  2024-06-25\n",
      "3  Funny Got Data MIS Data Systems Business Analy...  9 ratings  2024-06-25\n",
      "4  Funny Got Data MIS Data Systems Business Analy...  9 ratings  2024-06-25\n",
      "5  Funny Got Data MIS Data Systems Business Analy...  9 ratings  2024-06-25\n"
     ]
    }
   ],
   "source": [
    "import pandas as pd \n",
    "\n",
    "df=pd.read_csv(r'C:\\Users\\user\\python folder\\AmazonWebScraperDataset.csv')\n",
    "print(df)\n"
   ]
  },
  {
   "cell_type": "markdown",
   "id": "7a7720f8-d3b5-49e6-9daf-78f99401669c",
   "metadata": {},
   "source": [
    "# Now to append value  or csv data next to first column "
   ]
  },
  {
   "cell_type": "code",
   "execution_count": 51,
   "id": "ff936376-2027-47aa-95f3-64000024f575",
   "metadata": {},
   "outputs": [],
   "source": [
    "# no need to setup headers (run df)\n",
    "with open('AmazonWebScraperDataset.csv', 'a+', newline='', encoding='UTF8') as f:     # for adding data or appending data \n",
    "    writer = csv.writer(f)\n",
    "    writer.writerow(data)"
   ]
  },
  {
   "cell_type": "code",
   "execution_count": 53,
   "id": "b78e63cc-c6a1-4b12-9977-63a4585a1f4b",
   "metadata": {},
   "outputs": [],
   "source": [
    "# for refreshing the latest data with time we can use function (automating the refresh )\n",
    "\n",
    "def check_price():\n",
    "    URL = 'https://www.amazon.com/Funny-Data-Systems-Business-Analyst/dp/B07FNW9FGJ/ref=sr_1_3?dchild=1&keywords=data%2Banalyst%2Btshirt&qid=1626655184&sr=8-3&customId=B0752XJYNL&th=1'\n",
    "\n",
    "    headers = {\"User-Agent\": \"Mozilla/5.0 (Windows NT 10.0; Win64; x64) AppleWebKit/537.36 (KHTML, like Gecko) Chrome/78.0.3904.108 Safari/537.36\", \"Accept-Encoding\":\"gzip, deflate\", \"Accept\":\"text/html,application/xhtml+xml,application/xml;q=0.9,*/*;q=0.8\", \"DNT\":\"1\",\"Connection\":\"close\", \"Upgrade-Insecure-Requests\":\"1\"}\n",
    "    page = requests.get(URL, headers=headers)\n",
    "\n",
    "    soup1 = BeautifulSoup(page.content, \"html.parser\")\n",
    "\n",
    "    title = soup1.find(id='productTitle').get_text()\n",
    "    rating= soup1.find(id='acrCustomerReviewText').get_text()\n",
    "    \n",
    "    title = title.strip()\n",
    "    rating=rating.strip()[1:]\n",
    "    \n",
    "    import datetime\n",
    "    today = datetime.date.today()\n",
    "    \n",
    "\n",
    "    import csv\n",
    "    header =['title','rating','Date']               \n",
    "    data =[title,rating,today]\n",
    "\n",
    "    with open('AmazonWebScraperDataset.csv', 'a+', newline='') as f:\n",
    "         writer = csv.writer(f)\n",
    "         writer.writerow(data)      \n",
    "\n"
   ]
  },
  {
   "cell_type": "code",
   "execution_count": 60,
   "id": "f0872c6c-cfdf-420d-9382-6a863374b094",
   "metadata": {},
   "outputs": [
    {
     "ename": "KeyboardInterrupt",
     "evalue": "",
     "output_type": "error",
     "traceback": [
      "\u001b[1;31m---------------------------------------------------------------------------\u001b[0m",
      "\u001b[1;31mKeyboardInterrupt\u001b[0m                         Traceback (most recent call last)",
      "Cell \u001b[1;32mIn[60], line 6\u001b[0m\n\u001b[0;32m      4\u001b[0m \u001b[38;5;28;01mwhile\u001b[39;00m(\u001b[38;5;28;01mTrue\u001b[39;00m):\n\u001b[0;32m      5\u001b[0m     check_price()\n\u001b[1;32m----> 6\u001b[0m     time\u001b[38;5;241m.\u001b[39msleep(\u001b[38;5;241m20\u001b[39m)\n",
      "\u001b[1;31mKeyboardInterrupt\u001b[0m: "
     ]
    }
   ],
   "source": [
    "# now putting this to a timer for running intire process\n",
    "# Runs check_price after a set time and inputs data into your CSV\n",
    "\n",
    "while(True):\n",
    "    check_price()\n",
    "    time.sleep(20)     # in seconds only here 20 second\n"
   ]
  },
  {
   "cell_type": "code",
   "execution_count": 61,
   "id": "8e7b961e-2cd0-4e1a-8c50-68d8ddc9babe",
   "metadata": {},
   "outputs": [
    {
     "name": "stdout",
     "output_type": "stream",
     "text": [
      "                                               title     rating        Date\n",
      "0  Funny Got Data MIS Data Systems Business Analy...  9 ratings  2024-06-25\n",
      "1  Funny Got Data MIS Data Systems Business Analy...  9 ratings  2024-06-25\n",
      "2  Funny Got Data MIS Data Systems Business Analy...  9 ratings  2024-06-25\n",
      "3  Funny Got Data MIS Data Systems Business Analy...  9 ratings  2024-06-25\n",
      "4  Funny Got Data MIS Data Systems Business Analy...  9 ratings  2024-06-25\n",
      "5  Funny Got Data MIS Data Systems Business Analy...  9 ratings  2024-06-25\n"
     ]
    }
   ],
   "source": [
    "import pandas as pd \n",
    "\n",
    "df=pd.read_csv(r'C:\\Users\\user\\python folder\\AmazonWebScraperDataset.csv')\n",
    "print(df)"
   ]
  },
  {
   "cell_type": "code",
   "execution_count": null,
   "id": "969a0016-5133-4186-b030-cd842dbe1142",
   "metadata": {},
   "outputs": [],
   "source": [
    "# If uou want to try sending yourself an email (just for fun) when a price hits below a certain level you can try it\n",
    "# out with this script\n",
    "if (price<14):\n",
    "    send mail()\n",
    "def send_mail():\n",
    "    server = smtplib.SMTP_SSL('smtp.gmail.com',465)\n",
    "    server.ehlo()\n",
    "    #server.starttls()\n",
    "    server.ehlo()\n",
    "    server.login('atibh.pandey@gmail.com','xxxxxxxxxxxxxx')\n",
    "    \n",
    "    subject = \"The Shirt you want is below $15! Now is your chance to buy!\"\n",
    "    body = \"Atibh, This is the moment we have been waiting for. Now is your chance to pick up the shirt of your dreams. Don't mess it up! Link here: https://www.amazon.com/Funny-Data-Systems-Business-Analyst/dp/B07FNW9FGJ/ref=sr_1_3?dchild=1&keywords=data+analyst+tshirt&qid=1626655184&sr=8-3\"\n",
    "   \n",
    "    msg = f\"Subject: (Price Notifier\\n\\n hii,price has dropped to {price}.Buy it!\")\n",
    "    \n",
    "    server.sendmail(\n",
    "        'atibh.pandey@gmail.com',\n",
    "        msg\n",
    "     \n",
    "    )"
   ]
  },
  {
   "cell_type": "code",
   "execution_count": null,
   "id": "178d09cc-665e-4903-8408-8ca17abd8548",
   "metadata": {},
   "outputs": [],
   "source": []
  }
 ],
 "metadata": {
  "kernelspec": {
   "display_name": "Python 3 (ipykernel)",
   "language": "python",
   "name": "python3"
  },
  "language_info": {
   "codemirror_mode": {
    "name": "ipython",
    "version": 3
   },
   "file_extension": ".py",
   "mimetype": "text/x-python",
   "name": "python",
   "nbconvert_exporter": "python",
   "pygments_lexer": "ipython3",
   "version": "3.11.7"
  }
 },
 "nbformat": 4,
 "nbformat_minor": 5
}
